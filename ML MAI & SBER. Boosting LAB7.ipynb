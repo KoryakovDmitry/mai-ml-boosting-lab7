{
 "cells": [
  {
   "cell_type": "markdown",
   "metadata": {
    "pycharm": {
     "name": "#%% md\n"
    },
    "id": "Zgoi8i6plWlO"
   },
   "source": [
    "### О ЛР:\n",
    "\n",
    "- Coding Gradient boosting\n",
    "\n",
    "----\n",
    "\n",
    "#### Самостоятельная оценка результатов\n",
    "\n",
    "Для удобства проверки, исходя из набора решенных задач, посчитайте свою максимальную оценку (Она тут равняется 6).\n",
    "\n",
    "**Оценка**:\n",
    "\n",
    "***DeadLine - 28.05.2024 23:59***\n",
    "\n",
    "### Формат сдачи\n",
    "Задания сдаются через lms. Вы прикрепляете **ССЫЛКУ НА ПУБЛИЧНЫЙ РЕПОЗИТОРИЙ**, где выполнено ваше задание. Иначе задание не проверяется."
   ]
  },
  {
   "cell_type": "code",
   "execution_count": 24,
   "metadata": {
    "pycharm": {
     "name": "#%%\n"
    },
    "id": "1XDUNTn4lWlP",
    "ExecuteTime": {
     "end_time": "2024-06-11T16:00:38.900669Z",
     "start_time": "2024-06-11T16:00:38.837977Z"
    }
   },
   "outputs": [],
   "source": [
    "from warnings import filterwarnings\n",
    "\n",
    "import matplotlib.pyplot as plt\n",
    "import numpy as np\n",
    "import seaborn as sns\n",
    "from scipy.sparse import load_npz\n",
    "from sklearn.model_selection import train_test_split\n",
    "\n",
    "sns.set(style=\"darkgrid\")\n",
    "filterwarnings(\"ignore\")"
   ]
  },
  {
   "cell_type": "code",
   "execution_count": 25,
   "metadata": {
    "pycharm": {
     "name": "#%%\n"
    },
    "id": "yvolL0KvlWlQ",
    "ExecuteTime": {
     "end_time": "2024-06-11T16:00:39.084184Z",
     "start_time": "2024-06-11T16:00:39.066399Z"
    }
   },
   "outputs": [],
   "source": [
    "x = load_npz(\"data/x.npz\")\n",
    "y = np.load(\"data/y.npy\")"
   ]
  },
  {
   "cell_type": "markdown",
   "metadata": {
    "pycharm": {
     "name": "#%% md\n"
    },
    "id": "PRMjj9ZslWlQ"
   },
   "source": [
    "Разделим на обучающую, валидационную и тестовую выборки (`random_state` оставьте равным 666 для воспроизводимости)."
   ]
  },
  {
   "cell_type": "code",
   "execution_count": 26,
   "metadata": {
    "pycharm": {
     "name": "#%%\n"
    },
    "id": "Hme6Cf0HlWlR",
    "ExecuteTime": {
     "end_time": "2024-06-11T16:00:39.454129Z",
     "start_time": "2024-06-11T16:00:39.438698Z"
    }
   },
   "outputs": [
    {
     "data": {
      "text/plain": "((18825, 169), (2354, 169), (2353, 169))"
     },
     "execution_count": 26,
     "metadata": {},
     "output_type": "execute_result"
    }
   ],
   "source": [
    "x_train, x_test, y_train, y_test = train_test_split(\n",
    "    x, y, test_size=0.2, random_state=666\n",
    ")\n",
    "\n",
    "x_test, x_valid, y_test, y_valid = train_test_split(\n",
    "    x_test, y_test, test_size=0.5, random_state=666\n",
    ")\n",
    "\n",
    "x_train.shape, x_valid.shape, x_test.shape"
   ]
  },
  {
   "cell_type": "markdown",
   "metadata": {
    "pycharm": {
     "name": "#%% md\n"
    },
    "id": "tHaBuXarlWlR"
   },
   "source": [
    "## Задание 1. Реализация градиентного бустинга [2 балла]\n",
    "\n",
    "Необходимо дописать код в файле `boosting.py`. Уже создан шаблон класса `Boosting`, который можно модифицировать по своему усмотрению.\n",
    "\n",
    "### Описание функций:\n",
    "\n",
    "#### `__init__`\n",
    "\n",
    "Конструктор класса принимает следующие параметры:\n",
    "\n",
    "- `base_model_class` — класс базовой модели для бустинга.\n",
    "- `base_model_params` — словарь гиперпараметров для базовой модели.\n",
    "- `n_estimators` — количество базовых моделей для обучения.\n",
    "- `learning_rate` — темп обучения, должен быть в диапазоне (0, 1].\n",
    "- `subsample` — доля обучающей выборки для тренировки базовой модели (размер бутстрап-выборки относительно исходной).\n",
    "- `early_stopping_rounds` — число итераций без улучшения на валидационной выборке, после которых обучение прекращается.\n",
    "- `plot` — флаг для построения графика качества моделей после обучения.\n",
    "\n",
    "#### `fit`\n",
    "\n",
    "Метод `fit` принимает обучающую и валидационную выборки.\n",
    "\n",
    "1. Инициализируем нулевую модель и делаем предсказания (например, все нули) для обеих выборок.\n",
    "2. Обучаем `n_estimators` базовых моделей:\n",
    "   - Обучаем новую базовую модель на текущих остатках.\n",
    "   - Обновляем предсказания на обучающей и валидационной выборках.\n",
    "   - Рассчитываем ошибки на обеих выборках с помощью `loss_fn`.\n",
    "   - Проверяем условия для ранней остановки.\n",
    "\n",
    "3. Если флаг `plot` установлен, строим график качества после обучения всех моделей.\n",
    "\n",
    "#### `fit_new_base_model`\n",
    "\n",
    "Метод `fit_new_base_model` принимает обучающую выборку и текущие предсказания для неё.\n",
    "\n",
    "1. Генерируем бутстрап-выборку.\n",
    "2. Обучаем базовую модель на этой выборке.\n",
    "3. Оптимизируем значение гаммы.\n",
    "4. Добавляем новую базовую модель и гамму в соответствующие списки (учитывая `learning_rate`).\n",
    "\n",
    "#### `predict_proba`\n",
    "\n",
    "Метод `predict_proba` принимает выборку для предсказания вероятностей.\n",
    "\n",
    "1. Суммируем предсказания базовых моделей (учитывая гамму и `learning_rate`).\n",
    "2. Применяем сигмоидальную функцию для получения вероятностей."
   ]
  },
  {
   "cell_type": "code",
   "execution_count": 27,
   "metadata": {
    "pycharm": {
     "name": "#%%\n"
    },
    "id": "xh3nawbUlWlS",
    "ExecuteTime": {
     "end_time": "2024-06-11T16:00:39.800453Z",
     "start_time": "2024-06-11T16:00:39.787246Z"
    }
   },
   "outputs": [
    {
     "name": "stdout",
     "output_type": "stream",
     "text": [
      "The autoreload extension is already loaded. To reload it, use:\n",
      "  %reload_ext autoreload\n"
     ]
    }
   ],
   "source": [
    "%load_ext autoreload"
   ]
  },
  {
   "cell_type": "code",
   "execution_count": 28,
   "metadata": {
    "pycharm": {
     "name": "#%%\n"
    },
    "id": "reqHbUEBlWlS",
    "ExecuteTime": {
     "end_time": "2024-06-11T16:00:40.213779Z",
     "start_time": "2024-06-11T16:00:40.203758Z"
    }
   },
   "outputs": [],
   "source": [
    "%autoreload 2\n",
    "\n",
    "from boosting import Boosting"
   ]
  },
  {
   "cell_type": "markdown",
   "metadata": {
    "pycharm": {
     "name": "#%% md\n"
    },
    "id": "l7wWK5RplWlT"
   },
   "source": [
    "### Проверка кода\n",
    "\n",
    "У автора задания всё учится около одной секунды."
   ]
  },
  {
   "cell_type": "code",
   "execution_count": 29,
   "metadata": {
    "pycharm": {
     "name": "#%%\n"
    },
    "id": "00lZjzI3lWlT",
    "outputId": "c1aa6886-069b-433f-f0c1-5cf70bdb15cb",
    "ExecuteTime": {
     "end_time": "2024-06-11T16:00:41.452724Z",
     "start_time": "2024-06-11T16:00:40.951177Z"
    }
   },
   "outputs": [
    {
     "name": "stdout",
     "output_type": "stream",
     "text": [
      "CPU times: user 460 ms, sys: 1.84 ms, total: 462 ms\n",
      "Wall time: 462 ms\n",
      "Train ROC-AUC 0.9867\n",
      "Valid ROC-AUC 0.9423\n",
      "Test ROC-AUC 0.9423\n"
     ]
    }
   ],
   "source": [
    "boosting = Boosting()\n",
    "\n",
    "%time boosting.fit(x_train, y_train, x_valid, y_valid)\n",
    "\n",
    "assert len(boosting.models) == boosting.n_estimators\n",
    "assert len(boosting.gammas) == boosting.n_estimators\n",
    "\n",
    "assert boosting.predict_proba(x_test).shape == (x_test.shape[0], 2)\n",
    "\n",
    "print(f'Train ROC-AUC {boosting.score(x_train, y_train):.4f}')\n",
    "print(f'Valid ROC-AUC {boosting.score(x_valid, y_valid):.4f}')\n",
    "print(f'Test ROC-AUC {boosting.score(x_test, y_test):.4f}')"
   ]
  },
  {
   "cell_type": "markdown",
   "metadata": {
    "pycharm": {
     "name": "#%% md\n"
    },
    "id": "MlU-c9CxlWlU"
   },
   "source": [
    "## Задание 2. Обучение градиентного бустинга [0.5 балла]\n",
    "\n",
    "Оцените качество вашей реализации градиентного бустинга на тестовой выборке, используя базовые модели — решающие деревья с различной максимальной глубиной. Метрикой будет ROC-AUC.\n",
    "\n",
    "**Инструкция:**\n",
    "1. Перебирайте значения максимальной глубины деревьев от 1 до 30 с шагом 2.\n",
    "2. Оставьте остальные параметры бустинга по умолчанию.\n",
    "3. Постройте график зависимости качества на обучающей и тестовой выборке от максимальной глубины деревьев."
   ]
  },
  {
   "cell_type": "code",
   "execution_count": 30,
   "metadata": {
    "pycharm": {
     "name": "#%%\n"
    },
    "id": "-IjO9FqelWlU",
    "ExecuteTime": {
     "end_time": "2024-06-11T16:06:38.860708Z",
     "start_time": "2024-06-11T16:06:12.583370Z"
    }
   },
   "outputs": [
    {
     "name": "stdout",
     "output_type": "stream",
     "text": [
      "Max Depth: 1, Train ROC-AUC: 0.9131, Test ROC-AUC: 0.9118\n",
      "Max Depth: 3, Train ROC-AUC: 0.9442, Test ROC-AUC: 0.9403\n",
      "Max Depth: 5, Train ROC-AUC: 0.9592, Test ROC-AUC: 0.9530\n",
      "Max Depth: 7, Train ROC-AUC: 0.9695, Test ROC-AUC: 0.9587\n",
      "Max Depth: 9, Train ROC-AUC: 0.9766, Test ROC-AUC: 0.9615\n",
      "Max Depth: 11, Train ROC-AUC: 0.9823, Test ROC-AUC: 0.9611\n",
      "Max Depth: 13, Train ROC-AUC: 0.9867, Test ROC-AUC: 0.9608\n",
      "Max Depth: 15, Train ROC-AUC: 0.9892, Test ROC-AUC: 0.9599\n",
      "Max Depth: 17, Train ROC-AUC: 0.9913, Test ROC-AUC: 0.9561\n",
      "Max Depth: 19, Train ROC-AUC: 0.9926, Test ROC-AUC: 0.9584\n",
      "Max Depth: 21, Train ROC-AUC: 0.9933, Test ROC-AUC: 0.9592\n",
      "Max Depth: 23, Train ROC-AUC: 0.9940, Test ROC-AUC: 0.9583\n",
      "Max Depth: 25, Train ROC-AUC: 0.9944, Test ROC-AUC: 0.9571\n",
      "Max Depth: 27, Train ROC-AUC: 0.9948, Test ROC-AUC: 0.9564\n",
      "Max Depth: 29, Train ROC-AUC: 0.9947, Test ROC-AUC: 0.9573\n"
     ]
    },
    {
     "data": {
      "text/plain": "<Figure size 1200x600 with 1 Axes>",
      "image/png": "[encoded data removed]"
     },
     "metadata": {},
     "output_type": "display_data"
    }
   ],
   "source": [
    "from sklearn.tree import DecisionTreeRegressor\n",
    "\n",
    "results = {\n",
    "    'train': [],\n",
    "    'test': [],\n",
    "    'depth': []\n",
    "}\n",
    "\n",
    "depths = range(1, 30, 2)\n",
    "\n",
    "for depth in depths:\n",
    "    boosting = Boosting(\n",
    "        base_model_class=DecisionTreeRegressor,\n",
    "        base_model_params={'max_depth': depth},\n",
    "        n_estimators=50,  # keeping it moderate for the sake of runtime\n",
    "        learning_rate=0.1,\n",
    "        subsample=0.3,\n",
    "        early_stopping_rounds=5,\n",
    "        plot=False\n",
    "    )\n",
    "\n",
    "    boosting.fit(x_train, y_train, x_valid, y_valid)\n",
    "\n",
    "    train_auc = boosting.score(x_train, y_train)\n",
    "    test_auc = boosting.score(x_test, y_test)\n",
    "\n",
    "    results['train'].append(train_auc)\n",
    "    results['test'].append(test_auc)\n",
    "    results['depth'].append(depth)\n",
    "\n",
    "    print(f'Max Depth: {depth}, Train ROC-AUC: {train_auc:.4f}, Test ROC-AUC: {test_auc:.4f}')\n",
    "\n",
    "# Plotting the results\n",
    "plt.figure(figsize=(12, 6))\n",
    "plt.plot(results['depth'], results['train'], label='Train ROC-AUC')\n",
    "plt.plot(results['depth'], results['test'], label='Test ROC-AUC')\n",
    "plt.xlabel('Max Depth of Decision Trees')\n",
    "plt.ylabel('ROC-AUC Score')\n",
    "plt.title('ROC-AUC Score vs. Max Depth of Decision Trees')\n",
    "plt.legend()\n",
    "plt.grid(True)\n",
    "plt.show()\n"
   ]
  },
  {
   "cell_type": "markdown",
   "metadata": {
    "pycharm": {
     "name": "#%% md\n"
    },
    "id": "bshz0JV6lWlV"
   },
   "source": [
    "**Какая из моделей имеет лучшее качество? Как вы можете это объяснить?**\n",
    "\n",
    "На основании предоставленных результатов и оценок ROC-AUC, модель с глубиной деревьев 9 показала наивысший результат на тестовой выборке с ROC-AUC равным 0.9615.\n",
    "\n",
    "Объяснение:\n",
    "\n",
    "Недообучение и переобучение:\n",
    "\n",
    "Недообучение: при малой глубине деревьев модель слишком проста и не улавливает основные закономерности (низкие ROC-AUC).\n",
    "Переобучение: при большой глубине деревьев модель начинает подгоняться под шум в данных, что приводит к снижению качества на тестовой выборке.\n",
    "\n",
    "Оптимальная глубина:\n",
    "\n",
    "Глубина 9 обеспечивает лучший баланс между сложностью модели и её способностью обобщать на новые данные, что подтверждается наивысшим ROC-AUC на тестовой выборке.\n",
    "\n",
    "╰( ͡☉ ͜ʖ ͡☉ )つ──☆*:・ﾟ   ฅ^•ﻌ•^ฅ   ʕ•ᴥ•ʔ"
   ]
  },
  {
   "cell_type": "markdown",
   "metadata": {
    "id": "8FwaUsmqlWlV"
   },
   "source": [
    "## Задание 3. Подбор гиперпараметров и поиск оптимальной модели [3 балла]\n",
    "\n",
    "Настройте основные гиперпараметры вашей модели градиентного бустинга, используя валидационную выборку. Подберите параметры как для самого бустинга, так и для базовых моделей.\n",
    "\n",
    "**Рекомендации:**\n",
    "- Используйте библиотеки для автоматизированного подбора гиперпараметров, такие как [Hyperopt](https://github.com/hyperopt/hyperopt) или [Optuna](https://optuna.org/).\n",
    "- Подберите все основные параметры, чтобы найти лучшую модель на валидационной выборке."
   ]
  },
  {
   "cell_type": "code",
   "outputs": [
    {
     "name": "stderr",
     "output_type": "stream",
     "text": [
      "[I 2024-06-11 18:17:16,756] A new study created in memory with name: no-name-d8485201-034f-4017-b6ff-c290d57f8a2b\n",
      "[I 2024-06-11 18:17:19,443] Trial 0 finished with value: 0.9610022534115736 and parameters: {'max_depth': 15, 'min_samples_split': 20, 'min_samples_leaf': 4, 'n_estimators': 46, 'learning_rate': 0.07706981232948264, 'subsample': 0.8285510016442893}. Best is trial 0 with value: 0.9610022534115736.\n",
      "[I 2024-06-11 18:17:22,574] Trial 1 finished with value: 0.9634352515928302 and parameters: {'max_depth': 28, 'min_samples_split': 10, 'min_samples_leaf': 17, 'n_estimators': 81, 'learning_rate': 0.20205452768539264, 'subsample': 0.4194795041102385}. Best is trial 1 with value: 0.9634352515928302.\n",
      "[I 2024-06-11 18:17:30,594] Trial 2 finished with value: 0.9572408481368366 and parameters: {'max_depth': 28, 'min_samples_split': 9, 'min_samples_leaf': 8, 'n_estimators': 81, 'learning_rate': 0.14928115117651722, 'subsample': 0.9581950221426463}. Best is trial 1 with value: 0.9634352515928302.\n",
      "[I 2024-06-11 18:17:33,198] Trial 3 finished with value: 0.960960693028913 and parameters: {'max_depth': 26, 'min_samples_split': 5, 'min_samples_leaf': 10, 'n_estimators': 87, 'learning_rate': 0.2885848109584878, 'subsample': 0.3528325543343216}. Best is trial 1 with value: 0.9634352515928302.\n"
     ]
    },
    {
     "name": "stdout",
     "output_type": "stream",
     "text": [
      "Early stopping on iteration 71\n"
     ]
    },
    {
     "name": "stderr",
     "output_type": "stream",
     "text": [
      "[I 2024-06-11 18:17:38,715] Trial 4 finished with value: 0.960484083136017 and parameters: {'max_depth': 22, 'min_samples_split': 17, 'min_samples_leaf': 11, 'n_estimators': 66, 'learning_rate': 0.1315080765099642, 'subsample': 0.9495692439416312}. Best is trial 1 with value: 0.9634352515928302.\n",
      "[I 2024-06-11 18:17:40,949] Trial 5 finished with value: 0.9602778063743714 and parameters: {'max_depth': 23, 'min_samples_split': 19, 'min_samples_leaf': 4, 'n_estimators': 34, 'learning_rate': 0.22310054970043702, 'subsample': 0.6904154205000724}. Best is trial 1 with value: 0.9634352515928302.\n",
      "[I 2024-06-11 18:17:41,478] Trial 6 finished with value: 0.9528937846257086 and parameters: {'max_depth': 6, 'min_samples_split': 5, 'min_samples_leaf': 15, 'n_estimators': 15, 'learning_rate': 0.018831962946553475, 'subsample': 0.86678611710685}. Best is trial 1 with value: 0.9634352515928302.\n",
      "[I 2024-06-11 18:17:44,103] Trial 7 finished with value: 0.9575752376376926 and parameters: {'max_depth': 28, 'min_samples_split': 12, 'min_samples_leaf': 1, 'n_estimators': 26, 'learning_rate': 0.15381438409764525, 'subsample': 0.8232870846504472}. Best is trial 1 with value: 0.9634352515928302.\n",
      "[I 2024-06-11 18:17:44,735] Trial 8 finished with value: 0.9583751796819295 and parameters: {'max_depth': 26, 'min_samples_split': 9, 'min_samples_leaf': 6, 'n_estimators': 22, 'learning_rate': 0.01778796053431754, 'subsample': 0.2247793714953358}. Best is trial 1 with value: 0.9634352515928302.\n",
      "[I 2024-06-11 18:17:45,227] Trial 9 finished with value: 0.9601271976482162 and parameters: {'max_depth': 25, 'min_samples_split': 11, 'min_samples_leaf': 12, 'n_estimators': 10, 'learning_rate': 0.21856021243809817, 'subsample': 0.5239806107628624}. Best is trial 1 with value: 0.9634352515928302.\n",
      "[I 2024-06-11 18:17:47,024] Trial 10 finished with value: 0.9616832336265437 and parameters: {'max_depth': 16, 'min_samples_split': 2, 'min_samples_leaf': 18, 'n_estimators': 98, 'learning_rate': 0.22645977852010143, 'subsample': 0.1181291046517326}. Best is trial 1 with value: 0.9634352515928302.\n"
     ]
    },
    {
     "name": "stdout",
     "output_type": "stream",
     "text": [
      "Early stopping on iteration 91\n"
     ]
    },
    {
     "name": "stderr",
     "output_type": "stream",
     "text": [
      "[I 2024-06-11 18:17:49,001] Trial 11 finished with value: 0.9628778086620988 and parameters: {'max_depth': 15, 'min_samples_split': 2, 'min_samples_leaf': 20, 'n_estimators': 99, 'learning_rate': 0.2270897091097539, 'subsample': 0.12970354335563206}. Best is trial 1 with value: 0.9634352515928302.\n",
      "[I 2024-06-11 18:17:51,037] Trial 12 finished with value: 0.9622395326935322 and parameters: {'max_depth': 13, 'min_samples_split': 14, 'min_samples_leaf': 20, 'n_estimators': 67, 'learning_rate': 0.2775395654024271, 'subsample': 0.41960534536283334}. Best is trial 1 with value: 0.9634352515928302.\n",
      "[I 2024-06-11 18:17:52,969] Trial 13 finished with value: 0.9621865336734421 and parameters: {'max_depth': 6, 'min_samples_split': 2, 'min_samples_leaf': 16, 'n_estimators': 97, 'learning_rate': 0.1949116741262805, 'subsample': 0.27670570269295913}. Best is trial 1 with value: 0.9634352515928302.\n",
      "[I 2024-06-11 18:17:56,210] Trial 14 finished with value: 0.9619215385729918 and parameters: {'max_depth': 19, 'min_samples_split': 6, 'min_samples_leaf': 20, 'n_estimators': 79, 'learning_rate': 0.25275967658377374, 'subsample': 0.5416256090915185}. Best is trial 1 with value: 0.9634352515928302.\n",
      "[I 2024-06-11 18:17:57,479] Trial 15 finished with value: 0.9603826605508086 and parameters: {'max_depth': 12, 'min_samples_split': 15, 'min_samples_leaf': 15, 'n_estimators': 67, 'learning_rate': 0.18470691232497077, 'subsample': 0.11063342148693961}. Best is trial 1 with value: 0.9634352515928302.\n",
      "[I 2024-06-11 18:18:00,670] Trial 16 finished with value: 0.9628793338137561 and parameters: {'max_depth': 10, 'min_samples_split': 8, 'min_samples_leaf': 17, 'n_estimators': 90, 'learning_rate': 0.11981323807933932, 'subsample': 0.6400078139292136}. Best is trial 1 with value: 0.9634352515928302.\n",
      "[I 2024-06-11 18:18:02,932] Trial 17 finished with value: 0.9614414970888668 and parameters: {'max_depth': 9, 'min_samples_split': 8, 'min_samples_leaf': 13, 'n_estimators': 57, 'learning_rate': 0.10580478998715566, 'subsample': 0.6339817197823293}. Best is trial 1 with value: 0.9634352515928302.\n",
      "[I 2024-06-11 18:18:04,312] Trial 18 finished with value: 0.9138468518963354 and parameters: {'max_depth': 1, 'min_samples_split': 12, 'min_samples_leaf': 17, 'n_estimators': 85, 'learning_rate': 0.07796115226897578, 'subsample': 0.44303919954662885}. Best is trial 1 with value: 0.9634352515928302.\n",
      "[I 2024-06-11 18:18:08,388] Trial 19 finished with value: 0.9633498431000233 and parameters: {'max_depth': 19, 'min_samples_split': 7, 'min_samples_leaf': 14, 'n_estimators': 74, 'learning_rate': 0.11101721640664511, 'subsample': 0.6849506092195403}. Best is trial 1 with value: 0.9634352515928302.\n",
      "[I 2024-06-11 18:18:11,810] Trial 20 finished with value: 0.9606007572377978 and parameters: {'max_depth': 30, 'min_samples_split': 6, 'min_samples_leaf': 14, 'n_estimators': 50, 'learning_rate': 0.18604911767279764, 'subsample': 0.7341187654992849}. Best is trial 1 with value: 0.9634352515928302.\n",
      "[I 2024-06-11 18:18:15,091] Trial 21 finished with value: 0.9629052613919297 and parameters: {'max_depth': 20, 'min_samples_split': 8, 'min_samples_leaf': 18, 'n_estimators': 74, 'learning_rate': 0.11284574764033209, 'subsample': 0.5644357598621723}. Best is trial 1 with value: 0.9634352515928302.\n",
      "[I 2024-06-11 18:18:17,953] Trial 22 finished with value: 0.9618822659178172 and parameters: {'max_depth': 19, 'min_samples_split': 9, 'min_samples_leaf': 18, 'n_estimators': 75, 'learning_rate': 0.08452181275155182, 'subsample': 0.4872591463146121}. Best is trial 1 with value: 0.9634352515928302.\n",
      "[I 2024-06-11 18:18:21,556] Trial 23 finished with value: 0.9612641982087093 and parameters: {'max_depth': 20, 'min_samples_split': 7, 'min_samples_leaf': 13, 'n_estimators': 72, 'learning_rate': 0.044228812789198796, 'subsample': 0.6165019583414008}. Best is trial 1 with value: 0.9634352515928302.\n",
      "[I 2024-06-11 18:18:23,389] Trial 24 finished with value: 0.9606796838360615 and parameters: {'max_depth': 22, 'min_samples_split': 4, 'min_samples_leaf': 18, 'n_estimators': 54, 'learning_rate': 0.10189924426733657, 'subsample': 0.36106834559001966}. Best is trial 1 with value: 0.9634352515928302.\n",
      "[I 2024-06-11 18:18:27,523] Trial 25 finished with value: 0.9625209231742982 and parameters: {'max_depth': 17, 'min_samples_split': 10, 'min_samples_leaf': 15, 'n_estimators': 74, 'learning_rate': 0.0567335038041574, 'subsample': 0.7634080730316004}. Best is trial 1 with value: 0.9634352515928302.\n",
      "[I 2024-06-11 18:18:30,022] Trial 26 finished with value: 0.9634893944766634 and parameters: {'max_depth': 24, 'min_samples_split': 13, 'min_samples_leaf': 10, 'n_estimators': 60, 'learning_rate': 0.16902476376666278, 'subsample': 0.4408853541937785}. Best is trial 26 with value: 0.9634893944766634.\n",
      "[I 2024-06-11 18:18:31,952] Trial 27 finished with value: 0.9593036157532916 and parameters: {'max_depth': 30, 'min_samples_split': 14, 'min_samples_leaf': 9, 'n_estimators': 59, 'learning_rate': 0.17639039408694282, 'subsample': 0.28282455842980114}. Best is trial 26 with value: 0.9634893944766634.\n",
      "[I 2024-06-11 18:18:33,750] Trial 28 finished with value: 0.9606884534580908 and parameters: {'max_depth': 24, 'min_samples_split': 12, 'min_samples_leaf': 7, 'n_estimators': 44, 'learning_rate': 0.13821188311702018, 'subsample': 0.3939533081033975}. Best is trial 26 with value: 0.9634893944766634.\n",
      "[I 2024-06-11 18:18:35,900] Trial 29 finished with value: 0.9598198795892767 and parameters: {'max_depth': 27, 'min_samples_split': 16, 'min_samples_leaf': 11, 'n_estimators': 45, 'learning_rate': 0.2541136511226298, 'subsample': 0.4942320776713113}. Best is trial 26 with value: 0.9634893944766634.\n",
      "[I 2024-06-11 18:18:38,881] Trial 30 finished with value: 0.9630310864036542 and parameters: {'max_depth': 21, 'min_samples_split': 13, 'min_samples_leaf': 13, 'n_estimators': 61, 'learning_rate': 0.16517573533321453, 'subsample': 0.5927034801453389}. Best is trial 26 with value: 0.9634893944766634.\n",
      "[I 2024-06-11 18:18:42,091] Trial 31 finished with value: 0.9628068891100359 and parameters: {'max_depth': 22, 'min_samples_split': 13, 'min_samples_leaf': 13, 'n_estimators': 65, 'learning_rate': 0.16915776693739698, 'subsample': 0.589520760593936}. Best is trial 26 with value: 0.9634893944766634.\n",
      "[I 2024-06-11 18:18:44,599] Trial 32 finished with value: 0.9625857421197319 and parameters: {'max_depth': 18, 'min_samples_split': 11, 'min_samples_leaf': 9, 'n_estimators': 61, 'learning_rate': 0.20732446004012975, 'subsample': 0.4740750241978894}. Best is trial 26 with value: 0.9634893944766634.\n",
      "[I 2024-06-11 18:18:47,088] Trial 33 finished with value: 0.9607075178538067 and parameters: {'max_depth': 28, 'min_samples_split': 10, 'min_samples_leaf': 12, 'n_estimators': 39, 'learning_rate': 0.1584643429676172, 'subsample': 0.6958220872184359}. Best is trial 26 with value: 0.9634893944766634.\n",
      "[I 2024-06-11 18:18:49,971] Trial 34 finished with value: 0.9626864021291118 and parameters: {'max_depth': 21, 'min_samples_split': 18, 'min_samples_leaf': 10, 'n_estimators': 82, 'learning_rate': 0.13865983916355723, 'subsample': 0.34837844990300926}. Best is trial 26 with value: 0.9634893944766634.\n",
      "[I 2024-06-11 18:18:53,485] Trial 35 finished with value: 0.9613823974621477 and parameters: {'max_depth': 24, 'min_samples_split': 15, 'min_samples_leaf': 14, 'n_estimators': 52, 'learning_rate': 0.20246571392048282, 'subsample': 0.7960777546661107}. Best is trial 26 with value: 0.9634893944766634.\n",
      "[I 2024-06-11 18:19:01,022] Trial 36 finished with value: 0.9604284151005266 and parameters: {'max_depth': 25, 'min_samples_split': 13, 'min_samples_leaf': 11, 'n_estimators': 90, 'learning_rate': 0.16630692755093507, 'subsample': 0.9032765516384889}. Best is trial 26 with value: 0.9634893944766634.\n",
      "[I 2024-06-11 18:19:05,074] Trial 37 finished with value: 0.9590119304988389 and parameters: {'max_depth': 23, 'min_samples_split': 10, 'min_samples_leaf': 8, 'n_estimators': 63, 'learning_rate': 0.14779231314995164, 'subsample': 0.6907631383393532}. Best is trial 26 with value: 0.9634893944766634.\n",
      "[I 2024-06-11 18:19:07,555] Trial 38 finished with value: 0.9617164056750893 and parameters: {'max_depth': 27, 'min_samples_split': 13, 'min_samples_leaf': 5, 'n_estimators': 70, 'learning_rate': 0.09113458620952024, 'subsample': 0.3041969582964237}. Best is trial 26 with value: 0.9634893944766634.\n",
      "[I 2024-06-11 18:19:09,333] Trial 39 finished with value: 0.9612847877560824 and parameters: {'max_depth': 15, 'min_samples_split': 4, 'min_samples_leaf': 16, 'n_estimators': 81, 'learning_rate': 0.12547847965554879, 'subsample': 0.18565216094894627}. Best is trial 26 with value: 0.9634893944766634.\n",
      "[I 2024-06-11 18:19:13,295] Trial 40 finished with value: 0.960977469697143 and parameters: {'max_depth': 29, 'min_samples_split': 16, 'min_samples_leaf': 12, 'n_estimators': 78, 'learning_rate': 0.24113363980848512, 'subsample': 0.5672276488971076}. Best is trial 26 with value: 0.9634893944766634.\n"
     ]
    },
    {
     "name": "stdout",
     "output_type": "stream",
     "text": [
      "Early stopping on iteration 75\n"
     ]
    },
    {
     "name": "stderr",
     "output_type": "stream",
     "text": [
      "[I 2024-06-11 18:19:16,218] Trial 41 finished with value: 0.9617026793101738 and parameters: {'max_depth': 20, 'min_samples_split': 7, 'min_samples_leaf': 19, 'n_estimators': 70, 'learning_rate': 0.11897501200663571, 'subsample': 0.5309746228934905}. Best is trial 26 with value: 0.9634893944766634.\n",
      "[I 2024-06-11 18:19:19,575] Trial 42 finished with value: 0.9621167579851222 and parameters: {'max_depth': 17, 'min_samples_split': 9, 'min_samples_leaf': 16, 'n_estimators': 76, 'learning_rate': 0.06516018886788223, 'subsample': 0.5907502599113471}. Best is trial 26 with value: 0.9634893944766634.\n",
      "[I 2024-06-11 18:19:23,563] Trial 43 finished with value: 0.9608905360526787 and parameters: {'max_depth': 21, 'min_samples_split': 11, 'min_samples_leaf': 1, 'n_estimators': 86, 'learning_rate': 0.11028599389623578, 'subsample': 0.44661287086112517}. Best is trial 26 with value: 0.9634893944766634.\n",
      "[I 2024-06-11 18:19:28,836] Trial 44 finished with value: 0.9618490938692716 and parameters: {'max_depth': 25, 'min_samples_split': 20, 'min_samples_leaf': 14, 'n_estimators': 92, 'learning_rate': 0.15120017863973534, 'subsample': 0.6692552610177572}. Best is trial 26 with value: 0.9634893944766634.\n",
      "[I 2024-06-11 18:19:30,942] Trial 45 finished with value: 0.9615928683908507 and parameters: {'max_depth': 23, 'min_samples_split': 7, 'min_samples_leaf': 17, 'n_estimators': 61, 'learning_rate': 0.1409506528047644, 'subsample': 0.3982689690784952}. Best is trial 26 with value: 0.9634893944766634.\n",
      "[I 2024-06-11 18:19:34,002] Trial 46 finished with value: 0.9631271709580622 and parameters: {'max_depth': 26, 'min_samples_split': 8, 'min_samples_leaf': 15, 'n_estimators': 69, 'learning_rate': 0.2121407872131737, 'subsample': 0.5115345844373194}. Best is trial 26 with value: 0.9634893944766634.\n",
      "[I 2024-06-11 18:19:37,013] Trial 47 finished with value: 0.9627146174347712 and parameters: {'max_depth': 27, 'min_samples_split': 5, 'min_samples_leaf': 15, 'n_estimators': 68, 'learning_rate': 0.21107035185524897, 'subsample': 0.5066364265841201}. Best is trial 26 with value: 0.9634893944766634.\n",
      "[I 2024-06-11 18:19:38,919] Trial 48 finished with value: 0.9625979433329903 and parameters: {'max_depth': 25, 'min_samples_split': 12, 'min_samples_leaf': 12, 'n_estimators': 56, 'learning_rate': 0.19168822753357345, 'subsample': 0.3454214504643155}. Best is trial 26 with value: 0.9634893944766634.\n",
      "[I 2024-06-11 18:19:41,226] Trial 49 finished with value: 0.9580568042734748 and parameters: {'max_depth': 26, 'min_samples_split': 14, 'min_samples_leaf': 3, 'n_estimators': 48, 'learning_rate': 0.24210495048545483, 'subsample': 0.44940842489725574}. Best is trial 26 with value: 0.9634893944766634.\n"
     ]
    },
    {
     "name": "stdout",
     "output_type": "stream",
     "text": [
      "Best parameters: {'max_depth': 24, 'min_samples_split': 13, 'min_samples_leaf': 10, 'n_estimators': 60, 'learning_rate': 0.16902476376666278, 'subsample': 0.4408853541937785}\n"
     ]
    },
    {
     "data": {
      "text/plain": "<Figure size 640x480 with 1 Axes>",
      "image/png": "[encoded data removed]"
     },
     "metadata": {},
     "output_type": "display_data"
    },
    {
     "name": "stdout",
     "output_type": "stream",
     "text": [
      "Train ROC-AUC: 0.9817\n",
      "Valid ROC-AUC: 0.9614\n",
      "Test ROC-AUC: 0.9612\n"
     ]
    }
   ],
   "source": [
    "import optuna\n",
    "from sklearn.tree import DecisionTreeRegressor\n",
    "\n",
    "\n",
    "def objective(trial):\n",
    "    base_model_params = {\n",
    "        'max_depth': trial.suggest_int('max_depth', 1, 30),\n",
    "        'min_samples_split': trial.suggest_int('min_samples_split', 2, 20),\n",
    "        'min_samples_leaf': trial.suggest_int('min_samples_leaf', 1, 20),\n",
    "    }\n",
    "\n",
    "    n_estimators = trial.suggest_int('n_estimators', 10, 100)\n",
    "    learning_rate = trial.suggest_float('learning_rate', 0.01, 0.3)\n",
    "    subsample = trial.suggest_float('subsample', 0.1, 1.0)\n",
    "\n",
    "    boosting = Boosting(\n",
    "        base_model_class=DecisionTreeRegressor,\n",
    "        base_model_params=base_model_params,\n",
    "        n_estimators=n_estimators,\n",
    "        learning_rate=learning_rate,\n",
    "        subsample=subsample,\n",
    "        early_stopping_rounds=10,\n",
    "        plot=False\n",
    "    )\n",
    "\n",
    "    boosting.fit(x_train, y_train, x_valid, y_valid)\n",
    "\n",
    "    valid_auc = boosting.score(x_valid, y_valid)\n",
    "    return valid_auc\n",
    "\n",
    "\n",
    "study = optuna.create_study(direction='maximize')\n",
    "study.optimize(objective, n_trials=50)\n",
    "\n",
    "best_params = study.best_params\n",
    "print(f\"Best parameters: {best_params}\")\n",
    "\n",
    "final_boosting = Boosting(\n",
    "    base_model_class=DecisionTreeRegressor,\n",
    "    base_model_params={\n",
    "        'max_depth': best_params['max_depth'],\n",
    "        'min_samples_split': best_params['min_samples_split'],\n",
    "        'min_samples_leaf': best_params['min_samples_leaf'],\n",
    "    },\n",
    "    n_estimators=best_params['n_estimators'],\n",
    "    learning_rate=best_params['learning_rate'],\n",
    "    subsample=best_params['subsample'],\n",
    "    early_stopping_rounds=10,\n",
    "    plot=True\n",
    ")\n",
    "\n",
    "final_boosting.fit(x_train, y_train, x_valid, y_valid)\n",
    "print(f'Train ROC-AUC: {final_boosting.score(x_train, y_train):.4f}')\n",
    "print(f'Valid ROC-AUC: {final_boosting.score(x_valid, y_valid):.4f}')\n",
    "print(f'Test ROC-AUC: {final_boosting.score(x_test, y_test):.4f}')"
   ],
   "metadata": {
    "collapsed": false,
    "ExecuteTime": {
     "end_time": "2024-06-11T16:19:43.866225Z",
     "start_time": "2024-06-11T16:17:16.266955Z"
    }
   },
   "execution_count": 31
  },
  {
   "cell_type": "code",
   "execution_count": null,
   "metadata": {
    "pycharm": {
     "is_executing": true,
     "name": "#%%\n"
    },
    "id": "rZq0rKpWlWlV"
   },
   "outputs": [],
   "source": [
    "### ╰( ͡☉ ͜ʖ ͡☉ )つ──☆*:・ﾟ   ฅ^•ﻌ•^ฅ   ʕ•ᴥ•ʔ"
   ]
  },
  {
   "cell_type": "markdown",
   "metadata": {
    "pycharm": {
     "name": "#%% md\n"
    },
    "id": "hGk-Wt_slWlV"
   },
   "source": [
    "## Задание 4. Интерпретация градиентного бустинга [1 балл]\n",
    "\n",
    "Постройте калибровочную кривую для вашей лучшей модели градиентного бустинга и оцените, насколько точно модель предсказывает вероятности.\n",
    "\n",
    "**Инструкция:**\n",
    "1. Постройте калибровочную кривую для лучшей модели градиентного бустинга.\n",
    "2. Постройте аналогичную кривую для логистической регрессии.\n",
    "3. Сравните полученные результаты и проанализируйте, насколько хорошо каждая модель оценивает вероятности."
   ]
  },
  {
   "cell_type": "code",
   "execution_count": null,
   "metadata": {
    "pycharm": {
     "name": "#%%\n"
    },
    "id": "LdJG4bHClWlV"
   },
   "outputs": [],
   "source": [
    "### ╰( ͡☉ ͜ʖ ͡☉ )つ──☆*:・ﾟ   ฅ^•ﻌ•^ฅ   ʕ•ᴥ•ʔ"
   ]
  },
  {
   "cell_type": "markdown",
   "metadata": {
    "pycharm": {
     "name": "#%% md\n"
    },
    "id": "8O6bjp2MlWlW"
   },
   "source": [
    "Теперь оценим важность признаков для градиентного бустинга.\n",
    "\n",
    "**Задание:**\n",
    "1. Поскольку базовая модель — дерево из `sklearn`, вычислите важность каждого признака для каждого дерева, используя атрибут `feature_importances_` у `DecisionTreeRegressor`.\n",
    "2. Усредните значения важности по всем деревьям и нормализуйте их так, чтобы сумма была равна единице (убедитесь, что значения неотрицательны).\n",
    "3. Дополните вашу реализацию бустинга, добавив метод `feature_importances_`, который будет возвращать усредненные и нормализованные важности признаков.\n",
    "\n",
    "**Построение графиков:**\n",
    "1. Постройте столбчатую диаграмму важности признаков для градиентного бустинга.\n",
    "2. На соседнем графике изобразите важность признаков для логистической регрессии, используя модули весов.\n",
    "3. Сравните графики и проанализируйте полученные результаты."
   ]
  },
  {
   "cell_type": "code",
   "execution_count": null,
   "metadata": {
    "pycharm": {
     "name": "#%%\n"
    },
    "id": "y0JNgBk_lWlW"
   },
   "outputs": [],
   "source": [
    "### ╰( ͡☉ ͜ʖ ͡☉ )つ──☆*:・ﾟ   ฅ^•ﻌ•^ฅ   ʕ•ᴥ•ʔ"
   ]
  },
  {
   "cell_type": "markdown",
   "metadata": {
    "pycharm": {
     "name": "#%% md\n"
    },
    "id": "xheSi2IolWlW"
   },
   "source": [
    "Обычно избыточные признаки могут негативно влиять на качество бустинга. Попробуйте следующее:\n",
    "\n",
    "1. **Отфильтруйте неважные признаки:** Используйте построенную диаграмму важности признаков, чтобы отобрать наиболее незначительные признаки.\n",
    "2. **Обучите модель повторно:** Обучите модель на основе оставшихся признаков с теми же гиперпараметрами.\n",
    "3. **Оцените качество модели:** Сравните результаты новой модели с исходной. Улучшилось ли качество после отфильтровывания незначительных признаков?"
   ]
  },
  {
   "cell_type": "code",
   "execution_count": null,
   "metadata": {
    "pycharm": {
     "name": "#%%\n"
    },
    "id": "Rw9W9MEYlWlW"
   },
   "outputs": [],
   "source": [
    "### ╰( ͡☉ ͜ʖ ͡☉ )つ──☆*:・ﾟ   ฅ^•ﻌ•^ฅ   ʕ•ᴥ•ʔ"
   ]
  },
  {
   "cell_type": "markdown",
   "metadata": {
    "pycharm": {
     "name": "#%% md\n"
    },
    "id": "pH3489RklWlW"
   },
   "source": [
    "## Задание 5 (бонус). Блендинговое [0.5 балла]\n",
    "\n",
    "Реализуйте блендинг над вашей лучшей моделью и логистической регрессией. Улучшилось ли качество?"
   ]
  },
  {
   "cell_type": "code",
   "execution_count": null,
   "metadata": {
    "pycharm": {
     "name": "#%%\n"
    },
    "id": "FWcDMMVilWlW"
   },
   "outputs": [],
   "source": [
    "### ╰( ͡☉ ͜ʖ ͡☉ )つ──☆*:・ﾟ   ฅ^•ﻌ•^ฅ   ʕ•ᴥ•ʔ"
   ]
  },
  {
   "cell_type": "markdown",
   "metadata": {
    "collapsed": false,
    "pycharm": {
     "name": "#%% md\n"
    },
    "id": "eEF0yJ4vlWlX"
   },
   "source": [
    "## Задание 6 (бонус). Катбустовое [0.5 балла]\n",
    "\n",
    "Запустите [CatBoost](https://catboost.ai/en/docs/concepts/python-quickstart) на наших данных, сравните с вашей реализацией. Где получилось лучше?"
   ]
  },
  {
   "cell_type": "code",
   "execution_count": null,
   "metadata": {
    "pycharm": {
     "name": "#%%\n"
    },
    "id": "0lYGhc_clWlX"
   },
   "outputs": [],
   "source": [
    "### ╰( ͡☉ ͜ʖ ͡☉ )つ──☆*:・ﾟ   ฅ^•ﻌ•^ฅ   ʕ•ᴥ•ʔ"
   ]
  },
  {
   "cell_type": "markdown",
   "source": [
    "Оставьте пожалуйста отзыв о курсе!\n",
    "\n",
    "https://forms.gle/LajA3Xrps6u96Q5A8\n",
    "\n",
    "\n",
    "Это очень важно. Благодаря обратной связи мы будем двигаться в сторону антиградиента)\n"
   ],
   "metadata": {
    "id": "EqHzTXCllZO8"
   }
  }
 ],
 "metadata": {
  "kernelspec": {
   "display_name": "Python 3 (ipykernel)",
   "language": "python",
   "name": "python3"
  },
  "language_info": {
   "codemirror_mode": {
    "name": "ipython",
    "version": 3
   },
   "file_extension": ".py",
   "mimetype": "text/x-python",
   "name": "python",
   "nbconvert_exporter": "python",
   "pygments_lexer": "ipython3",
   "version": "3.9.7"
  },
  "nbTranslate": {
   "displayLangs": [
    "*"
   ],
   "hotkey": "alt-t",
   "langInMainMenu": true,
   "sourceLang": "en",
   "targetLang": "fr",
   "useGoogleTranslate": true
  },
  "toc": {
   "base_numbering": 1,
   "nav_menu": {
    "height": "210px",
    "width": "492px"
   },
   "number_sections": false,
   "sideBar": true,
   "skip_h1_title": false,
   "title_cell": "Table of Contents",
   "title_sidebar": "Contents",
   "toc_cell": false,
   "toc_position": {},
   "toc_section_display": true,
   "toc_window_display": true
  },
  "varInspector": {
   "cols": {
    "lenName": 16,
    "lenType": 16,
    "lenVar": 40
   },
   "kernels_config": {
    "python": {
     "delete_cmd_postfix": "",
     "delete_cmd_prefix": "del ",
     "library": "var_list.py",
     "varRefreshCmd": "print(var_dic_list())"
    },
    "r": {
     "delete_cmd_postfix": ") ",
     "delete_cmd_prefix": "rm(",
     "library": "var_list.r",
     "varRefreshCmd": "cat(var_dic_list()) "
    }
   },
   "types_to_exclude": [
    "module",
    "function",
    "builtin_function_or_method",
    "instance",
    "_Feature"
   ],
   "window_display": false
  },
  "colab": {
   "provenance": []
  }
 },
 "nbformat": 4,
 "nbformat_minor": 0
}
